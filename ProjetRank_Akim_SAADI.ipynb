{
 "cells": [
  {
   "cell_type": "markdown",
   "metadata": {},
   "source": [
    "# <h1><center>Projet PageRank</center></h1>"
   ]
  },
  {
   "cell_type": "markdown",
   "metadata": {},
   "source": [
    "## Question 1"
   ]
  },
  {
   "cell_type": "markdown",
   "metadata": {},
   "source": [
    "La matrice $C_1$ associées à l'exemple 1 :\n",
    "\\begin{pmatrix} \n",
    "0  & 0  & 0  & 0  & 0  & 0  & 0  & 0  & 0  & 0 \\\\\n",
    "1  & 0  & 0  & 1  & 0  & 0  & 0  & 0  & 0  & 0 \\\\\n",
    "0  & 1  & 0  & 0  & 0  & 0  & 0  & 0  & 0  & 0 \\\\\n",
    "0  & 1  & 1  & 0  & 0  & 0  & 0  & 0  & 0  & 0 \\\\\n",
    "1  & 0  & 0  & 0  & 0  & 1  & 0  & 0  & 0  & 0 \\\\\n",
    "0  & 0  & 0  & 0  & 1  & 0  & 0  & 0  & 0  & 0 \\\\\n",
    "0  & 0  & 0  & 1  & 0  & 1  & 0  & 0  & 1  & 0 \\\\\n",
    "0  & 0  & 0  & 0  & 0  & 0  & 1  & 0  & 1  & 0 \\\\\n",
    "0  & 0  & 0  & 0  & 0  & 0  & 0  & 1  & 0  & 0 \\\\\n",
    "0  & 0  & 1  & 0  & 0  & 0  & 0  & 0  & 0  & 0\n",
    "\\end{pmatrix}"
   ]
  },
  {
   "cell_type": "markdown",
   "metadata": {},
   "source": [
    "La matrice $C_2$ associées à l'exemple 2 :\n",
    "\\begin{pmatrix}\n",
    "0 & 1 & 0 & 0 & 0 & 0 & 0 & 0 & 0 & 0 \\\\\n",
    "0 & 0 & 1 & 1 & 0 & 0 & 0 & 0 & 0 & 0 \\\\\n",
    "0 & 0 & 0 & 1 & 0 & 0 & 0 & 0 & 0 & 1 \\\\\n",
    "0 & 0 & 0 & 0 & 1 & 0 & 0 & 1 & 0 & 0 \\\\\n",
    "0 & 0 & 1 & 0 & 0 & 1 & 0 & 0 & 0 & 0 \\\\\n",
    "0 & 1 & 0 & 0 & 0 & 0 & 1 & 0 & 0 & 0 \\\\\n",
    "0 & 0 & 0 & 0 & 0 & 0 & 0 & 1 & 0 & 0 \\\\\n",
    "0 & 0 & 0 & 0 & 0 & 0 & 0 & 0 & 1 & 0 \\\\\n",
    "0 & 0 & 0 & 0 & 0 & 0 & 0 & 0 & 0 & 1 \\\\\n",
    "0 & 0 & 0 & 0 & 0 & 0 & 0 & 0 & 0 & 0\n",
    "\\end{pmatrix}"
   ]
  },
  {
   "cell_type": "markdown",
   "metadata": {},
   "source": [
    "La matrice $C_3$ associées à l'exemple 3 :\n",
    "\\begin{pmatrix}\n",
    "0 & 0 & 0 & 0 & 0 & 0 & 0 & 0 & 0 & 0\\\\\n",
    "1 & 0 & 0 & 0 & 0 & 0 & 0 & 0 & 0 & 0\\\\\n",
    "0 & 1 & 0 & 0 & 0 & 0 & 0 & 0 & 0 & 0\\\\\n",
    "0 & 1 & 1 & 0 & 0 & 0 & 0 & 0 & 0 & 0\\\\\n",
    "0 & 0 & 0 & 0 & 0 & 1 & 0 & 0 & 0 & 0\\\\\n",
    "0 & 0 & 0 & 0 & 1 & 0 & 0 & 0 & 0 & 0\\\\\n",
    "0 & 0 & 0 & 0 & 0 & 0 & 0 & 0 & 1 & 0\\\\\n",
    "0 & 0 & 0 & 0 & 0 & 0 & 1 & 0 & 1 & 0\\\\\n",
    "0 & 0 & 0 & 0 & 0 & 0 & 0 & 1 & 0 & 0\\\\\n",
    "0 & 0 & 1 & 0 & 0 & 0 & 0 & 0 & 0 & 0\n",
    "\\end{pmatrix}"
   ]
  },
  {
   "cell_type": "code",
   "execution_count": 1,
   "metadata": {},
   "outputs": [],
   "source": [
    "import numpy as np\n",
    "from numpy import linalg as LA\n",
    "import math as mt\n",
    "\n",
    "C1 = np.array([\n",
    "    [0, 0, 0, 0, 0, 0, 0, 0, 0, 0],\n",
    "    [1, 0, 0, 1, 0, 0, 0, 0, 0, 0],\n",
    "    [0, 1, 0, 0, 0, 0, 0, 0, 0, 0],\n",
    "    [0, 1, 1, 0, 0, 0, 0, 0, 0, 0],\n",
    "    [1, 0, 0, 0, 0, 1, 0, 0, 0, 0],\n",
    "    [0, 0, 0, 0, 1, 0, 0, 0, 0, 0],\n",
    "    [0, 0, 0, 1, 0, 1, 0, 0, 1, 0],\n",
    "    [0, 0, 0, 0, 0, 0, 1, 0, 1, 0],\n",
    "    [0, 0, 0, 0, 0, 0, 0, 1, 0, 0],\n",
    "    [0, 0, 1, 0, 0, 0, 0, 0, 0, 0]\n",
    "])\n",
    "\n",
    "C2 = np.array([\n",
    "    [0, 1, 0, 0, 0, 0, 0, 0, 0, 0],\n",
    "    [0, 0, 1, 1, 0, 0, 0, 0, 0, 0],\n",
    "    [0, 0, 0, 1, 0, 0, 0, 0, 0, 1],\n",
    "    [0, 0, 0, 0, 1, 0, 0, 1, 0, 0],\n",
    "    [0, 0, 1, 0, 0, 1, 0, 0, 0, 0],\n",
    "    [0, 1, 0, 0, 0, 0, 1, 0, 0, 0],\n",
    "    [0, 0, 0, 0, 0, 0, 0, 1, 0, 0],\n",
    "    [0, 0, 0, 0, 0, 0, 0, 0, 1, 0],\n",
    "    [0, 0, 0, 0, 0, 0, 0, 0, 0, 1],\n",
    "    [0, 0, 0, 0, 0, 0, 0, 0, 0, 0]\n",
    "])\n",
    "\n",
    "C3 = np.array([\n",
    "    [0, 0, 0, 0, 0, 0, 0, 0, 0, 0],\n",
    "    [1, 0, 0, 0, 0, 0, 0, 0, 0, 0],\n",
    "    [0, 1, 0, 0, 0, 0, 0, 0, 0, 0],\n",
    "    [0, 1, 1, 0, 0, 0, 0, 0, 0, 0],\n",
    "    [0, 0, 0, 0, 0, 1, 0, 0, 0, 0],\n",
    "    [0, 0, 0, 0, 1, 0, 0, 0, 0, 0],\n",
    "    [0, 0, 0, 0, 0, 0, 0, 0, 1, 0],\n",
    "    [0, 0, 0, 0, 0, 0, 1, 0, 1, 0],\n",
    "    [0, 0, 0, 0, 0, 0, 0, 1, 0, 0],\n",
    "    [0, 0, 1, 0, 0, 0, 0, 0, 0, 0]\n",
    "])\n",
    "\n",
    "def somme_colonne (C,j) : \n",
    "    N=len(C[0,:])\n",
    "    Nj=0\n",
    "    for k in range (N):\n",
    "        Nj += C[k][j]\n",
    "    return Nj\n",
    "\n",
    "def somme_ligne(C,i) :\n",
    "    N=len(C[0,:])\n",
    "    Ni=0\n",
    "    for k in range (N):\n",
    "        Ni += C[i][k]\n",
    "    return Ni\n",
    "\n",
    "def matrice_Q (C) :\n",
    "    N=len(C[0,:])\n",
    "    Q=np.zeros((N,N))\n",
    "    for j in range (N):\n",
    "        Nj = somme_colonne(C,j)\n",
    "        for i in range (N) :\n",
    "            if Nj==0 : \n",
    "                Q[i][j]=0\n",
    "            else :\n",
    "                Q[i][j] = C[i][j]/Nj\n",
    "    return Q\n",
    "\n",
    "def remplir_d (d,C):\n",
    "    N=len(C[0,:])\n",
    "    for j in range (N):\n",
    "        Nj = somme_colonne(C,j)\n",
    "        if Nj == 0 :\n",
    "            d[j]=1\n",
    "\n",
    "Q1=matrice_Q(C1)\n",
    "Q2=matrice_Q(C2)\n",
    "Q3=matrice_Q(C3)"
   ]
  },
  {
   "cell_type": "markdown",
   "metadata": {},
   "source": [
    "## Question 2"
   ]
  },
  {
   "cell_type": "markdown",
   "metadata": {},
   "source": [
    "La matrice $Q_1$ associées à l'exemple 1 :\n",
    "\\begin{pmatrix} \n",
    "0 & 0 & 0 & 0 & 0 & 0 & 0 & 0 & 0 & 0 \\\\\n",
    "  0.5 & 0 & 0 & 0.5 & 0 & 0 & 0 & 0 & 0 & 0 \\\\\n",
    "  0 & 0.5 & 0 & 0 & 0 & 0 & 0 & 0 & 0 & 0 \\\\\n",
    "  0 & 0.5 & 0.5 & 0 & 0 & 0 & 0 & 0 & 0 & 0 \\\\\n",
    "  0.5 & 0 & 0 & 0 & 0 & 0.5 & 0 & 0 & 0 & 0 \\\\\n",
    "  0 & 0 & 0 & 0 &  1 & 0 & 0 & 0 & 0 & 0 \\\\\n",
    "  0 & 0 & 0 & 0.5 & 0 & 0.5 & 0 & 0 & 0.5 & 0 \\\\\n",
    "  0 & 0 & 0 & 0 & 0 & 0 & 1 & 0 & 0.5 & 0 \\\\\n",
    "  0 & 0 & 0 & 0 & 0 & 0 & 0 & 1 & 0 & 0 \\\\\n",
    "  0 & 0 & 0.5 & 0 & 0 & 0 & 0 & 0 & 0 & 0 \n",
    "\\end{pmatrix}"
   ]
  },
  {
   "cell_type": "markdown",
   "metadata": {},
   "source": [
    "La matrice $Q_2$ associées à l'exemple 2 :\n",
    "\\begin{pmatrix} \n",
    "0 & 0.5 & 0 & 0 & 0 & 0 & 0 & 0 & 0 & 0\\\\\n",
    " 0 & 0 & 0.5 & 0.5 & 0 & 0 & 0 & 0 & 0 & 0\\\\\n",
    " 0 & 0 & 0 & 0.5 & 0 & 0 & 0 & 0 & 0 & 0.5\\\\\n",
    " 0 & 0 & 0 & 0 & 1 & 0 & 0 & 0.5 & 0 & 0\\\\\n",
    " 0 & 0 & 0.5 & 0 & 0 & 1 & 0 & 0 & 0 & 0\\\\\n",
    " 0 & 0.5 & 0 & 0 & 0 & 0 & 1 & 0 & 0 & 0\\\\\n",
    " 0 & 0 & 0 & 0 & 0 & 0 & 0 & 0.5 & 0 & 0\\\\\n",
    " 0 & 0 & 0 & 0 & 0 & 0 & 0 & 0 & 1 & 0\\\\\n",
    " 0 & 0 & 0 & 0 & 0 & 0 & 0 & 0 & 0 & 0.5\\\\\n",
    " 0 & 0 & 0 & 0 & 0 & 0 & 0 & 0 & 0 & 0\n",
    "\\end{pmatrix}"
   ]
  },
  {
   "cell_type": "markdown",
   "metadata": {},
   "source": [
    "La matrice $Q_3$ associées à l'exemple 3 :\n",
    "\\begin{pmatrix} \n",
    "0 & 0 & 0 & 0 & 0 & 0 & 0 & 0 & 0 & 0 \\\\\n",
    " 1 & 0 & 0 & 0 & 0 & 0 & 0 & 0 & 0 & 0 \\\\\n",
    " 0 & 0.5& 0 & 0 & 0 & 0 & 0 & 0 & 0 & 0 \\\\\n",
    " 0 & 0.5& 0.5& 0 & 0 & 0 & 0 & 0 & 0 & 0 \\\\\n",
    " 0 & 0 & 0 & 0 & 0 & 1 & 0 & 0 & 0 & 0 \\\\\n",
    " 0 & 0 & 0 & 0 & 1 & 0 & 0 & 0 & 0 & 0 \\\\\n",
    " 0 & 0 & 0 & 0 & 0 & 0 & 0 & 0 & 0.5& 0 \\\\\n",
    " 0 & 0 & 0 & 0 & 0 & 0 & 1 & 0 & 0.5& 0 \\\\\n",
    " 0 & 0 & 0 & 0 & 0 & 0 & 0 & 1 & 0 & 0 \\\\\n",
    " 0 & 0 & 0.5& 0 & 0 & 0 & 0 & 0 & 0 & 0\n",
    "\\end{pmatrix}"
   ]
  },
  {
   "cell_type": "markdown",
   "metadata": {},
   "source": [
    "## Question 3"
   ]
  },
  {
   "cell_type": "markdown",
   "metadata": {},
   "source": [
    "On sait que $N_j$ = $\\sum^{N}_{k = 1} C_{kj}$, donc avec $N_j$ différent de 0, on a $\\frac{\\sum^{N}_{k = 1} C_{kj}}{N_j} = \\frac{N_j}{N_j}=1$.\n",
    "Or la somme de la $j^{ieme}$ colonne de Q vaut $\\sum^{N}_{k = 1} Q_{kj} = \\sum^{N}_{k = 1} \\frac{C_{kj}}{N_j} = \\frac{\\sum^{N}_{k = 1} C_{kj}}{N_j} = 1$"
   ]
  },
  {
   "cell_type": "markdown",
   "metadata": {},
   "source": [
    "## Question 4"
   ]
  },
  {
   "cell_type": "code",
   "execution_count": 2,
   "metadata": {},
   "outputs": [
    {
     "name": "stdout",
     "output_type": "stream",
     "text": [
      "Les valeurs propres de Q1 sont :\n",
      "[ 0.        +0.j         -0.5       +0.5j        -0.5       -0.5j\n",
      " -0.33117949+0.28113976j -0.33117949-0.28113976j  1.        +0.j\n",
      "  0.66235898+0.j          0.70710678+0.j         -0.70710678+0.j\n",
      "  0.        +0.j        ]\n"
     ]
    }
   ],
   "source": [
    "valeur_propre = LA.eig(Q1)[0]\n",
    "print('Les valeurs propres de Q1 sont :', valeur_propre, sep='\\n')"
   ]
  },
  {
   "cell_type": "code",
   "execution_count": 3,
   "metadata": {},
   "outputs": [
    {
     "name": "stdout",
     "output_type": "stream",
     "text": [
      "Les valeurs propres de Q2 sont :\n",
      "[ 0.00000000e+00+0.j          8.84646177e-01+0.j\n",
      " -2.77555756e-17+0.70710678j -2.77555756e-17-0.70710678j\n",
      " -4.42323089e-01+0.2948714j  -4.42323089e-01-0.2948714j\n",
      "  0.00000000e+00+0.j          0.00000000e+00+0.j\n",
      "  0.00000000e+00+0.j          0.00000000e+00+0.j        ]\n"
     ]
    }
   ],
   "source": [
    "valeur_propre = LA.eig(Q2)[0]\n",
    "print('Les valeurs propres de Q2 sont :', valeur_propre, sep='\\n')"
   ]
  },
  {
   "cell_type": "code",
   "execution_count": 4,
   "metadata": {},
   "outputs": [
    {
     "name": "stdout",
     "output_type": "stream",
     "text": [
      "Les valeurs propres de Q3 sont :\n",
      "[ 1. +0.j  -1. +0.j   1. +0.j  -0.5+0.5j -0.5-0.5j  0. +0.j   0. +0.j\n",
      "  0. +0.j   0. +0.j   0. +0.j ]\n"
     ]
    }
   ],
   "source": [
    "valeur_propre = LA.eig(Q3)[0]\n",
    "print('Les valeurs propres de Q3 sont :', valeur_propre, sep='\\n')"
   ]
  },
  {
   "cell_type": "markdown",
   "metadata": {},
   "source": [
    "On voit que $Q_1$ et $Q_3$ ont 1 comme valeur propre mais pas $Q_2$."
   ]
  },
  {
   "cell_type": "markdown",
   "metadata": {},
   "source": [
    "## Question 5"
   ]
  },
  {
   "cell_type": "markdown",
   "metadata": {},
   "source": [
    "#### (a)"
   ]
  },
  {
   "cell_type": "markdown",
   "metadata": {},
   "source": [
    "Soit X = $\\begin{pmatrix} \n",
    "1 \\\\\n",
    "1 \\\\\n",
    "\\vdots \\\\\n",
    "1\\\\\n",
    "1\n",
    "\\end{pmatrix}\\in \\mathbb{R}^n$ et $Q^t$ une matrice stochastique, puisque Q est stochastique, la somme de ses lignes est égal à 1. Donc $Q^t × X = X = X × 1 $ et 1 est une valeur propre de 1."
   ]
  },
  {
   "cell_type": "markdown",
   "metadata": {},
   "source": [
    "#### (b)"
   ]
  },
  {
   "cell_type": "markdown",
   "metadata": {},
   "source": [
    "Soit $\\lambda$ une valeur propre de $Q^t$, X= $\\begin{pmatrix} \n",
    "x_1 \\\\\n",
    "\\vdots \\\\\n",
    "x_n\n",
    "\\end{pmatrix}$ un vecteur propre associé et $x_i$ le plus grand coefficient de X.\n",
    "En prenant la $i^{eme}$ ligne de l'égalité $Q^tX = \\lambda X$, on a :\n",
    "$$q_{i1}^t x_1 + ... + q_{in}^t x_n = \\lambda x_i$$\n",
    "En passant au module, on a :\n",
    "$$|\\lambda x_i| = |\\lambda| |x_i| = |q_{i1}^t x_1 + ... + q_{in}^t x_n| \\leq (q_{i1}^t +...+q_{in}^t) |x_i| = |x_i| $$\n",
    "\n",
    "Donc $\\lambda \\leq 1$ et donc $\\rho (Q^t)=1$\n",
    "\n",
    "Soit A une matrice,\n",
    "$$det(A^t - \\lambda Id) = det ((A - \\lambda Id)^t) = det (A -  \\lambda Id)$$\n",
    "Donc une matrice et sa transposée ont le même polynôme caractéristique et les mêmes valeurs propres, donc $\\rho (Q^t)=\\rho (Q)=1$"
   ]
  },
  {
   "cell_type": "markdown",
   "metadata": {},
   "source": [
    "## Question 6"
   ]
  },
  {
   "cell_type": "code",
   "execution_count": 5,
   "metadata": {},
   "outputs": [
    {
     "name": "stdout",
     "output_type": "stream",
     "text": [
      "La matrice P1 associées à l'exemple 1 :\n",
      "[[0.  0.  0.  0.  0.  0.  0.  0.  0.  0.1]\n",
      " [0.5 0.  0.  0.5 0.  0.  0.  0.  0.  0.1]\n",
      " [0.  0.5 0.  0.  0.  0.  0.  0.  0.  0.1]\n",
      " [0.  0.5 0.5 0.  0.  0.  0.  0.  0.  0.1]\n",
      " [0.5 0.  0.  0.  0.  0.5 0.  0.  0.  0.1]\n",
      " [0.  0.  0.  0.  1.  0.  0.  0.  0.  0.1]\n",
      " [0.  0.  0.  0.5 0.  0.5 0.  0.  0.5 0.1]\n",
      " [0.  0.  0.  0.  0.  0.  1.  0.  0.5 0.1]\n",
      " [0.  0.  0.  0.  0.  0.  0.  1.  0.  0.1]\n",
      " [0.  0.  0.5 0.  0.  0.  0.  0.  0.  0.1]]\n",
      "\n",
      "Les valeurs propres de P1 sont :\n",
      "[ 1.00000000e+00+0.j          7.37085721e-01+0.j\n",
      "  7.07106781e-01+0.j         -7.07106781e-01+0.j\n",
      " -5.00000000e-01+0.5j        -5.00000000e-01-0.5j\n",
      " -3.18542861e-01+0.26099279j -3.18542861e-01-0.26099279j\n",
      "  2.29883043e-09+0.j         -2.29883051e-09+0.j        ]\n"
     ]
    }
   ],
   "source": [
    "N= len(Q1)\n",
    "e = np.ones((N,1), dtype= int)\n",
    "d1 = np.zeros ((N,1), dtype= int)\n",
    "remplir_d(d1,C1)\n",
    "d1t=np.transpose(d1)\n",
    "P1= Q1+1/N*e.dot(d1t)\n",
    "print(\"La matrice P1 associées à l'exemple 1 :\", P1,sep='\\n',end='\\n\\n')\n",
    "valeur_propre = LA.eig(P1)[0]\n",
    "print('Les valeurs propres de P1 sont :', valeur_propre, sep='\\n')"
   ]
  },
  {
   "cell_type": "code",
   "execution_count": 6,
   "metadata": {},
   "outputs": [
    {
     "name": "stdout",
     "output_type": "stream",
     "text": [
      "La matrice P2 associées à l'exemple 2 :\n",
      "[[0.1 0.5 0.  0.  0.  0.  0.  0.  0.  0. ]\n",
      " [0.1 0.  0.5 0.5 0.  0.  0.  0.  0.  0. ]\n",
      " [0.1 0.  0.  0.5 0.  0.  0.  0.  0.  0.5]\n",
      " [0.1 0.  0.  0.  1.  0.  0.  0.5 0.  0. ]\n",
      " [0.1 0.  0.5 0.  0.  1.  0.  0.  0.  0. ]\n",
      " [0.1 0.5 0.  0.  0.  0.  1.  0.  0.  0. ]\n",
      " [0.1 0.  0.  0.  0.  0.  0.  0.5 0.  0. ]\n",
      " [0.1 0.  0.  0.  0.  0.  0.  0.  1.  0. ]\n",
      " [0.1 0.  0.  0.  0.  0.  0.  0.  0.  0.5]\n",
      " [0.1 0.  0.  0.  0.  0.  0.  0.  0.  0. ]]\n",
      "\n",
      "Les valeurs propres de P2 sont :\n",
      "[ 1.        +0.j          0.36581284+0.36047335j  0.36581284-0.36047335j\n",
      "  0.02596647+0.7026806j   0.02596647-0.7026806j  -0.20845507+0.45513976j\n",
      " -0.20845507-0.45513976j -0.45895162+0.2520749j  -0.45895162-0.2520749j\n",
      " -0.34874523+0.j        ]\n"
     ]
    }
   ],
   "source": [
    "d2 = np.zeros ((N,1), dtype= int)\n",
    "remplir_d(d2,C2)\n",
    "d2t=np.transpose(d2)\n",
    "P2= Q2+1/N*e.dot(d2t)\n",
    "print(\"La matrice P2 associées à l'exemple 2 :\", P2,sep='\\n',end='\\n\\n')\n",
    "valeur_propre = LA.eig(P2)[0]\n",
    "print('Les valeurs propres de P2 sont :', valeur_propre, sep='\\n')"
   ]
  },
  {
   "cell_type": "code",
   "execution_count": 7,
   "metadata": {},
   "outputs": [
    {
     "name": "stdout",
     "output_type": "stream",
     "text": [
      "La matrice P3 associées à l'exemple 3 :\n",
      "[[0.  0.  0.  0.1 0.  0.  0.  0.  0.  0.1]\n",
      " [1.  0.  0.  0.1 0.  0.  0.  0.  0.  0.1]\n",
      " [0.  0.5 0.  0.1 0.  0.  0.  0.  0.  0.1]\n",
      " [0.  0.5 0.5 0.1 0.  0.  0.  0.  0.  0.1]\n",
      " [0.  0.  0.  0.1 0.  1.  0.  0.  0.  0.1]\n",
      " [0.  0.  0.  0.1 1.  0.  0.  0.  0.  0.1]\n",
      " [0.  0.  0.  0.1 0.  0.  0.  0.  0.5 0.1]\n",
      " [0.  0.  0.  0.1 0.  0.  1.  0.  0.5 0.1]\n",
      " [0.  0.  0.  0.1 0.  0.  0.  1.  0.  0.1]\n",
      " [0.  0.  0.5 0.1 0.  0.  0.  0.  0.  0.1]]\n",
      "\n",
      "Les valeurs propres de P3 sont :\n",
      "[-5.00000000e-01+0.5j        -5.00000000e-01-0.5j\n",
      " -7.01362108e-02+0.41632364j -7.01362108e-02-0.41632364j\n",
      " -3.86155039e-01+0.j         -6.69336576e-17+0.j\n",
      "  7.26427461e-01+0.j          1.00000000e+00+0.j\n",
      " -1.00000000e+00+0.j          1.00000000e+00+0.j        ]\n"
     ]
    }
   ],
   "source": [
    "d3 = np.zeros ((N,1), dtype= int)\n",
    "remplir_d(d3,C3)\n",
    "d3t=np.transpose(d3)\n",
    "P3= Q3+1/N*e.dot(d3t)\n",
    "print(\"La matrice P3 associées à l'exemple 3 :\", P3,sep='\\n',end='\\n\\n')\n",
    "valeur_propre = LA.eig(P3)[0]\n",
    "print('Les valeurs propres de P3 sont :', valeur_propre, sep='\\n')"
   ]
  },
  {
   "cell_type": "markdown",
   "metadata": {},
   "source": [
    "## Question 7"
   ]
  },
  {
   "cell_type": "markdown",
   "metadata": {},
   "source": [
    "La multiplication de e et la transposée de d donne une matrice de taille N × N où si la somme de la $i^{ieme}$ de $C$ est nul alors la $i^{ieme}$ colonne est composée de 1 sinon elle est composée de 0. Multiplié par $\\frac{1}{N}$, les 1 deviennent des $\\frac{1}{N}$ et les 0 reste des 0. $C$ et $W$ ayant les mêmes colonnes nuls, l'addition de $Q$ et $\\frac{1}{N} ed^t$ comble les colonnes de 0 par $\\frac{1}{N}$. \n"
   ]
  },
  {
   "cell_type": "markdown",
   "metadata": {},
   "source": [
    "## Question 8"
   ]
  },
  {
   "cell_type": "markdown",
   "metadata": {},
   "source": [
    "Dans la question 3, on a déjà montré que la somme des colonnes non nul de Q étaient égal à 1 et si la $i^{ieme}$ colonne de Q est non nul, elle est égale à la $i^{ieme}$ colonne de P. Pour les autres colonnes, on a montré dans la question 7 qu'elles sont composées de $\\frac{1}{N}$, la somme des colonnes est égale à $\\sum^{N}\\frac{1}{N}=1$. Donc toutes les sommes des colonnes de P sont égales à 1. Donc pour la transposé de P a la somme de ses lignes qui sont égales à 1 et est donc stochastique.\n",
    "Dans la question 5, on a montré que la transposée d'une matrice stochastique a 1 comme valeur propre et que le son $\\rho$ et celui de sa transposée sont égales à 1."
   ]
  },
  {
   "cell_type": "markdown",
   "metadata": {},
   "source": [
    "## Question 10"
   ]
  },
  {
   "cell_type": "code",
   "execution_count": 8,
   "metadata": {},
   "outputs": [
    {
     "name": "stdout",
     "output_type": "stream",
     "text": [
      "La matrice A_0.1 associé à l'exemple 1 :\n",
      "[[0.09 0.09 0.09 0.09 0.09 0.09 0.09 0.09 0.09 0.1 ]\n",
      " [0.14 0.09 0.09 0.14 0.09 0.09 0.09 0.09 0.09 0.1 ]\n",
      " [0.09 0.14 0.09 0.09 0.09 0.09 0.09 0.09 0.09 0.1 ]\n",
      " [0.09 0.14 0.14 0.09 0.09 0.09 0.09 0.09 0.09 0.1 ]\n",
      " [0.14 0.09 0.09 0.09 0.09 0.14 0.09 0.09 0.09 0.1 ]\n",
      " [0.09 0.09 0.09 0.09 0.19 0.09 0.09 0.09 0.09 0.1 ]\n",
      " [0.09 0.09 0.09 0.14 0.09 0.14 0.09 0.09 0.14 0.1 ]\n",
      " [0.09 0.09 0.09 0.09 0.09 0.09 0.19 0.09 0.14 0.1 ]\n",
      " [0.09 0.09 0.09 0.09 0.09 0.09 0.09 0.19 0.09 0.1 ]\n",
      " [0.09 0.09 0.14 0.09 0.09 0.09 0.09 0.09 0.09 0.1 ]]\n",
      "\n",
      "Les modules des valeurs propres de A_01 de l'exemple 1 sont  :\n",
      "[0.9999999999999982, 0.07370857210789918, 0.07071067811865492, 0.07071067811865465, 0.07071067811865465, 0.07071067811865463, 0.04118091646753852, 0.04118091646753852, 7.056518938127082e-10, 7.056518356426622e-10]\n",
      "\n",
      "La matrice A_0.5 associé à l'exemple 1 :\n",
      "[[0.05 0.05 0.05 0.05 0.05 0.05 0.05 0.05 0.05 0.1 ]\n",
      " [0.3  0.05 0.05 0.3  0.05 0.05 0.05 0.05 0.05 0.1 ]\n",
      " [0.05 0.3  0.05 0.05 0.05 0.05 0.05 0.05 0.05 0.1 ]\n",
      " [0.05 0.3  0.3  0.05 0.05 0.05 0.05 0.05 0.05 0.1 ]\n",
      " [0.3  0.05 0.05 0.05 0.05 0.3  0.05 0.05 0.05 0.1 ]\n",
      " [0.05 0.05 0.05 0.05 0.55 0.05 0.05 0.05 0.05 0.1 ]\n",
      " [0.05 0.05 0.05 0.3  0.05 0.3  0.05 0.05 0.3  0.1 ]\n",
      " [0.05 0.05 0.05 0.05 0.05 0.05 0.55 0.05 0.3  0.1 ]\n",
      " [0.05 0.05 0.05 0.05 0.05 0.05 0.05 0.55 0.05 0.1 ]\n",
      " [0.05 0.05 0.3  0.05 0.05 0.05 0.05 0.05 0.05 0.1 ]]\n",
      "\n",
      "Les modules des valeurs propres de A_05 de l'exemple 2 sont\n",
      "[0.9999999999999998, 0.36854286053949614, 0.3535533905932744, 0.3535533905932743, 0.3535533905932736, 0.3535533905932736, 0.20590458233769274, 0.20590458233769274, 3.2377547441774333e-09, 3.2377547441774333e-09]\n"
     ]
    }
   ],
   "source": [
    "def alpha (P,alpha,e):\n",
    "    N=len(P)\n",
    "    A_alpha = np.zeros ((N,N), dtype= int)\n",
    "    et=np.transpose(e)\n",
    "    A_alpha = alpha * P + (1-alpha) * 1/N * e.dot(et)\n",
    "    return A_alpha\n",
    "\n",
    "def liste_module (liste) :\n",
    "    nouvelle_liste=[]\n",
    "    for i in range(len(liste)) :\n",
    "        a=liste[i].real\n",
    "        b=liste[i].imag\n",
    "        nouvelle_liste.append(mt.sqrt(a**2+b**2))\n",
    "    return nouvelle_liste\n",
    "    \n",
    "A_01_1=alpha(P1,0.1,e)\n",
    "A_05_1=alpha(P1,0.5,e)\n",
    "print(\"La matrice A_0.1 associé à l'exemple 1 :\",A_01_1,sep='\\n',end='\\n\\n')\n",
    "module_valeur_propre = liste_module(LA.eig(A_01_1)[0])\n",
    "print(\"Les modules des valeurs propres de A_01 de l'exemple 1 sont  :\", sorted(module_valeur_propre,reverse=True), sep='\\n',end='\\n\\n')\n",
    "\n",
    "print(\"La matrice A_0.5 associé à l'exemple 1 :\",A_05_1,sep='\\n',end='\\n\\n')\n",
    "module_valeur_propre = liste_module(LA.eig(A_05_1)[0])\n",
    "print(\"Les modules des valeurs propres de A_05 de l'exemple 2 sont\" , sorted(module_valeur_propre,reverse=True), sep='\\n')"
   ]
  },
  {
   "cell_type": "code",
   "execution_count": 9,
   "metadata": {},
   "outputs": [
    {
     "name": "stdout",
     "output_type": "stream",
     "text": [
      "La matrice A_0.1 associé à l'exemple 2 :\n",
      "[[0.1  0.14 0.09 0.09 0.09 0.09 0.09 0.09 0.09 0.09]\n",
      " [0.1  0.09 0.14 0.14 0.09 0.09 0.09 0.09 0.09 0.09]\n",
      " [0.1  0.09 0.09 0.14 0.09 0.09 0.09 0.09 0.09 0.14]\n",
      " [0.1  0.09 0.09 0.09 0.19 0.09 0.09 0.14 0.09 0.09]\n",
      " [0.1  0.09 0.14 0.09 0.09 0.19 0.09 0.09 0.09 0.09]\n",
      " [0.1  0.14 0.09 0.09 0.09 0.09 0.19 0.09 0.09 0.09]\n",
      " [0.1  0.09 0.09 0.09 0.09 0.09 0.09 0.14 0.09 0.09]\n",
      " [0.1  0.09 0.09 0.09 0.09 0.09 0.09 0.09 0.19 0.09]\n",
      " [0.1  0.09 0.09 0.09 0.09 0.09 0.09 0.09 0.09 0.14]\n",
      " [0.1  0.09 0.09 0.09 0.09 0.09 0.09 0.09 0.09 0.09]]\n",
      "\n",
      "Les modules des valeurs propres de A_01 de l'exemple 2 sont :\n",
      "[1.0, 0.07031602081229152, 0.07031602081229152, 0.05236204194883307, 0.05236204194883307, 0.05135757702229403, 0.05135757702229403, 0.05006053494806034, 0.05006053494806034, 0.034874523019469895]\n",
      "\n",
      "La matrice A_0.5 associé à l'exemple 2 :\n",
      "[[0.1  0.3  0.05 0.05 0.05 0.05 0.05 0.05 0.05 0.05]\n",
      " [0.1  0.05 0.3  0.3  0.05 0.05 0.05 0.05 0.05 0.05]\n",
      " [0.1  0.05 0.05 0.3  0.05 0.05 0.05 0.05 0.05 0.3 ]\n",
      " [0.1  0.05 0.05 0.05 0.55 0.05 0.05 0.3  0.05 0.05]\n",
      " [0.1  0.05 0.3  0.05 0.05 0.55 0.05 0.05 0.05 0.05]\n",
      " [0.1  0.3  0.05 0.05 0.05 0.05 0.55 0.05 0.05 0.05]\n",
      " [0.1  0.05 0.05 0.05 0.05 0.05 0.05 0.3  0.05 0.05]\n",
      " [0.1  0.05 0.05 0.05 0.05 0.05 0.05 0.05 0.55 0.05]\n",
      " [0.1  0.05 0.05 0.05 0.05 0.05 0.05 0.05 0.05 0.3 ]\n",
      " [0.1  0.05 0.05 0.05 0.05 0.05 0.05 0.05 0.05 0.05]]\n",
      "\n",
      "Les modules des valeurs propres de A_05 de l'exemple 2 sont :\n",
      "[1.0000000000000027, 0.3515801040614577, 0.3515801040614577, 0.26181020974416525, 0.26181020974416525, 0.2567878851114695, 0.2567878851114695, 0.25030267474030116, 0.25030267474030116, 0.17437261509734941]\n"
     ]
    }
   ],
   "source": [
    "A_01_2=alpha(P2,0.1,e)\n",
    "A_05_2=alpha(P2,0.5,e)\n",
    "print(\"La matrice A_0.1 associé à l'exemple 2 :\",A_01_2,sep='\\n',end='\\n\\n')\n",
    "module_valeur_propre = liste_module(LA.eig(A_01_2)[0])\n",
    "print(\"Les modules des valeurs propres de A_01 de l'exemple 2 sont :\", sorted(module_valeur_propre,reverse=True), sep='\\n',end='\\n\\n')\n",
    "print(\"La matrice A_0.5 associé à l'exemple 2 :\",A_05_2,sep='\\n',end='\\n\\n')\n",
    "module_valeur_propre = liste_module(LA.eig(A_05_2)[0])\n",
    "print(\"Les modules des valeurs propres de A_05 de l'exemple 2 sont :\", sorted(module_valeur_propre,reverse=True), sep='\\n')"
   ]
  },
  {
   "cell_type": "code",
   "execution_count": 10,
   "metadata": {},
   "outputs": [
    {
     "name": "stdout",
     "output_type": "stream",
     "text": [
      "La matrice A_0.1 associé à l'exemple 3 :\n",
      "[[0.09 0.09 0.09 0.1  0.09 0.09 0.09 0.09 0.09 0.1 ]\n",
      " [0.19 0.09 0.09 0.1  0.09 0.09 0.09 0.09 0.09 0.1 ]\n",
      " [0.09 0.14 0.09 0.1  0.09 0.09 0.09 0.09 0.09 0.1 ]\n",
      " [0.09 0.14 0.14 0.1  0.09 0.09 0.09 0.09 0.09 0.1 ]\n",
      " [0.09 0.09 0.09 0.1  0.09 0.19 0.09 0.09 0.09 0.1 ]\n",
      " [0.09 0.09 0.09 0.1  0.19 0.09 0.09 0.09 0.09 0.1 ]\n",
      " [0.09 0.09 0.09 0.1  0.09 0.09 0.09 0.09 0.14 0.1 ]\n",
      " [0.09 0.09 0.09 0.1  0.09 0.09 0.19 0.09 0.14 0.1 ]\n",
      " [0.09 0.09 0.09 0.1  0.09 0.09 0.09 0.19 0.09 0.1 ]\n",
      " [0.09 0.09 0.14 0.1  0.09 0.09 0.09 0.09 0.09 0.1 ]]\n",
      "\n",
      "Les modules des valeurs propres de A_01 à l'exemple 3 sont :\n",
      "[1.0000000000000002, 0.10000000000000002, 0.09999999999999998, 0.0726427461057777, 0.07071067811865471, 0.07071067811865471, 0.04221900774127305, 0.04221900774127305, 0.03861550394425758, 1.9184878209226424e-17]\n",
      "\n",
      "La matrice A_0.5 associé à l'exemple 3 :\n",
      "[[0.1  0.3  0.05 0.05 0.05 0.05 0.05 0.05 0.05 0.05]\n",
      " [0.1  0.05 0.3  0.3  0.05 0.05 0.05 0.05 0.05 0.05]\n",
      " [0.1  0.05 0.05 0.3  0.05 0.05 0.05 0.05 0.05 0.3 ]\n",
      " [0.1  0.05 0.05 0.05 0.55 0.05 0.05 0.3  0.05 0.05]\n",
      " [0.1  0.05 0.3  0.05 0.05 0.55 0.05 0.05 0.05 0.05]\n",
      " [0.1  0.3  0.05 0.05 0.05 0.05 0.55 0.05 0.05 0.05]\n",
      " [0.1  0.05 0.05 0.05 0.05 0.05 0.05 0.3  0.05 0.05]\n",
      " [0.1  0.05 0.05 0.05 0.05 0.05 0.05 0.05 0.55 0.05]\n",
      " [0.1  0.05 0.05 0.05 0.05 0.05 0.05 0.05 0.05 0.3 ]\n",
      " [0.1  0.05 0.05 0.05 0.05 0.05 0.05 0.05 0.05 0.05]]\n",
      "\n",
      "Les modules des valeurs propres de A_05 de l'exemple 3 sont :\n",
      "[1.0000000000000009, 0.5000000000000002, 0.49999999999999994, 0.36321373052888867, 0.3535533905932743, 0.3535533905932743, 0.2110950387063655, 0.2110950387063655, 0.19307751972128806, 4.008749832125747e-17]\n"
     ]
    }
   ],
   "source": [
    "A_01_3=alpha(P3,0.1,e)\n",
    "A_05_3=alpha(P3,0.5,e)\n",
    "print(\"La matrice A_0.1 associé à l'exemple 3 :\",A_01_3,sep='\\n',end='\\n\\n')\n",
    "module_valeur_propre = liste_module(LA.eig(A_01_3)[0])\n",
    "print(\"Les modules des valeurs propres de A_01 à l'exemple 3 sont :\", sorted(module_valeur_propre,reverse=True), sep='\\n',end='\\n\\n')\n",
    "print(\"La matrice A_0.5 associé à l'exemple 3 :\",A_05_2,sep='\\n',end='\\n\\n')\n",
    "module_valeur_propre = liste_module(LA.eig(A_05_3)[0])\n",
    "print(\"Les modules des valeurs propres de A_05 de l'exemple 3 sont :\", sorted(module_valeur_propre,reverse=True), sep='\\n')"
   ]
  },
  {
   "cell_type": "markdown",
   "metadata": {},
   "source": [
    "## Question 11"
   ]
  },
  {
   "cell_type": "markdown",
   "metadata": {},
   "source": [
    "Un élément de la matrice $A_\\alpha$ à la ligne i et la colonne j est égal à $p_{ij}\\alpha + \\frac{(1-\\alpha)}{N}$, la somme d'une colonne j est égal à $$\\sum^N_{k=1} p_{kj}\\alpha + \\frac{(1-\\alpha)}{N} = \\sum^N_{k=1} p_{kj}\\alpha + \\sum^N_{k=1}\\frac{(1-\\alpha)}{N} = \\alpha\\sum^N_{k=1} p_{kj} + \\sum^N_{k=1}\\frac{(1-\\alpha)}{N}  = \\alpha + (1 - \\alpha) = 1$$\n",
    "\n",
    "$A_\\alpha$ est strictement positif car $\\alpha < 1$ implique que $\\frac{(1 - \\alpha)}{N}$ l'est et que donc $\\alpha P+ \\frac{(1 - \\alpha)}{N} e e^t$ l'est aussi.\n",
    "\n",
    "$\\rho(A_\\alpha)$ car on a vu dans la question 5 que le $\\rho$ de la transposée d'une matrice stochastique est 1.\n",
    "\n",
    "$A_\\alpha$ a 1 comme valeur propre et qu'il existe un vecteur propre associé à 1 strictement positif comme on l'a vue dans la question 9."
   ]
  },
  {
   "cell_type": "markdown",
   "metadata": {},
   "source": [
    "## Question 12"
   ]
  },
  {
   "cell_type": "code",
   "execution_count": 11,
   "metadata": {},
   "outputs": [
    {
     "name": "stdout",
     "output_type": "stream",
     "text": [
      "Le vecteur approché de r tel que r=A_0.1 r pour l'exemple 1\n",
      "[[0.09095757]\n",
      " [0.10054465]\n",
      " [0.0959848 ]\n",
      " [0.10078404]\n",
      " [0.10055611]\n",
      " [0.10101318]\n",
      " [0.10612856]\n",
      " [0.10665156]\n",
      " [0.10162273]\n",
      " [0.09575681]]\n",
      "\n",
      "Le vecteur approché de r tel que r=A_0.1 r pour l'exemple 2\n",
      "[[0.09602699]\n",
      " [0.1013344 ]\n",
      " [0.1008404 ]\n",
      " [0.10664231]\n",
      " [0.10656485]\n",
      " [0.10562557]\n",
      " [0.09598582]\n",
      " [0.1005111 ]\n",
      " [0.09550828]\n",
      " [0.09096027]]\n",
      "\n",
      "Le vecteur approché de r tel que r=A_0.1 r pour l'exemple 3\n",
      "[[0.09198739]\n",
      " [0.10118613]\n",
      " [0.09704669]\n",
      " [0.10189903]\n",
      " [0.10220821]\n",
      " [0.1022082 ]\n",
      " [0.09712092]\n",
      " [0.10683302]\n",
      " [0.10267069]\n",
      " [0.09683972]]\n",
      "\n"
     ]
    }
   ],
   "source": [
    "def methode_puissance (A,r0) :\n",
    "    r=r0\n",
    "    for i in range (1,1000) :\n",
    "        q=A.dot(r)\n",
    "        r = q / LA.norm(q,1)\n",
    "        k=0\n",
    "        for j in range(len(A)):\n",
    "            if LA.norm (A.dot(r)[j]-r[j])<10**(-8) :\n",
    "                k+=1\n",
    "                if k == len(A):\n",
    "                    return r\n",
    "    return None\n",
    "\n",
    "N= len(A_01_1)\n",
    "\n",
    "r0 = np.random.randint(5, size=(N, 1))+e\n",
    "r_1=methode_puissance(A_01_1,r0)\n",
    "r_2=methode_puissance(A_01_2,r0)\n",
    "r_3=methode_puissance(A_01_3,r0)\n",
    "\n",
    "print(\"Le vecteur approché de r tel que r=A_0.1 r pour l'exemple 1\",r_1,sep='\\n',end='\\n\\n')\n",
    "print(\"Le vecteur approché de r tel que r=A_0.1 r pour l'exemple 2\",r_2,sep='\\n',end='\\n\\n')\n",
    "print(\"Le vecteur approché de r tel que r=A_0.1 r pour l'exemple 3\",r_3,sep='\\n',end='\\n\\n')"
   ]
  },
  {
   "cell_type": "markdown",
   "metadata": {},
   "source": [
    "## Question 14\n"
   ]
  },
  {
   "cell_type": "code",
   "execution_count": 12,
   "metadata": {},
   "outputs": [],
   "source": [
    "import time\n",
    "def question_14 (Q, r0,alpha,e) :\n",
    "    N=len(Q)\n",
    "    s=1\n",
    "    while s > 10**(-8) :\n",
    "        r1 = alpha * Q.dot(r0)\n",
    "        beta=1-LA.norm(r1,1)\n",
    "        r2=r1+beta/N*e\n",
    "        s=LA.norm(r2-r0,1)\n",
    "        r0=r2\n",
    "    return r0\n",
    "        "
   ]
  },
  {
   "cell_type": "code",
   "execution_count": 18,
   "metadata": {},
   "outputs": [
    {
     "name": "stdout",
     "output_type": "stream",
     "text": [
      "Le temps d'exécution du programme de la question 14 est de  0.02366970000002766\n",
      "Le temps d'exécution de l'algorithme des puissances est de  6.483251999999993\n"
     ]
    }
   ],
   "source": [
    "N=1000\n",
    "C=np.random.randint(2, size=(N, N))\n",
    "Q=matrice_Q(C)\n",
    "e = np.ones((N,1), dtype= int)\n",
    "d = np.zeros ((N,1), dtype= int)\n",
    "remplir_d(d,C)\n",
    "dt=np.transpose(d)\n",
    "P= Q+1/N*e.dot(dt)\n",
    "A_01=alpha(P,0.1,e)\n",
    "r0 = np.random.randint(5, size=(N, 1))+e\n",
    "start = time.perf_counter()\n",
    "question_14(Q,r0,0.1,e)\n",
    "end = time.perf_counter()\n",
    "print(\"Le temps d'exécution du programme de la question 14 est de \",end-start,sep=' ')\n",
    "start = time.perf_counter()\n",
    "methode_puissance(A_01,r0)\n",
    "end = time.perf_counter()\n",
    "print(\"Le temps d'exécution de l'algorithme des puissances est de \",end-start,sep=' ')"
   ]
  },
  {
   "cell_type": "code",
   "execution_count": null,
   "metadata": {},
   "outputs": [],
   "source": []
  }
 ],
 "metadata": {
  "kernelspec": {
   "display_name": "Python 3",
   "language": "python",
   "name": "python3"
  },
  "language_info": {
   "codemirror_mode": {
    "name": "ipython",
    "version": 3
   },
   "file_extension": ".py",
   "mimetype": "text/x-python",
   "name": "python",
   "nbconvert_exporter": "python",
   "pygments_lexer": "ipython3",
   "version": "3.7.4"
  }
 },
 "nbformat": 4,
 "nbformat_minor": 2
}
